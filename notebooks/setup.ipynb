{
 "cells": [
  {
   "cell_type": "markdown",
   "source": [
    "# Setup Jupyter Notebooks\n",
    "\n",
    "This is a guide on setting up your notebook fro this research project"
   ],
   "metadata": {
    "collapsed": false
   },
   "id": "19bef67bb3315ae5"
  },
  {
   "cell_type": "code",
   "outputs": [],
   "source": [
    "# Use only to install required dependencies into your Juputer kernal (if you don't already have them)\n",
    "import sys\n",
    "!{sys.executable} -m pip install numpy pandas requests"
   ],
   "metadata": {
    "collapsed": true
   },
   "id": "initial_id",
   "execution_count": 0
  }
 ],
 "metadata": {
  "kernelspec": {
   "display_name": "Python 3",
   "language": "python",
   "name": "python3"
  },
  "language_info": {
   "codemirror_mode": {
    "name": "ipython",
    "version": 2
   },
   "file_extension": ".py",
   "mimetype": "text/x-python",
   "name": "python",
   "nbconvert_exporter": "python",
   "pygments_lexer": "ipython2",
   "version": "2.7.6"
  }
 },
 "nbformat": 4,
 "nbformat_minor": 5
}
