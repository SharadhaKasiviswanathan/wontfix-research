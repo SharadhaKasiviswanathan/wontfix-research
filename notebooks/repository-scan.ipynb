{
 "cells": [
  {
   "cell_type": "markdown",
   "source": [
    "# Scan Repositories\n",
    "\n",
    "This notebook will scan repositories in order to collect details about `wontfix` label usage"
   ],
   "metadata": {
    "collapsed": false
   },
   "id": "63e25d761875f95d"
  },
  {
   "cell_type": "code",
   "outputs": [],
   "source": [],
   "metadata": {
    "collapsed": false
   },
   "id": "b91dafaefd3a77bd"
  }
 ],
 "metadata": {
  "kernelspec": {
   "display_name": "Python 3",
   "language": "python",
   "name": "python3"
  },
  "language_info": {
   "codemirror_mode": {
    "name": "ipython",
    "version": 2
   },
   "file_extension": ".py",
   "mimetype": "text/x-python",
   "name": "python",
   "nbconvert_exporter": "python",
   "pygments_lexer": "ipython2",
   "version": "2.7.6"
  }
 },
 "nbformat": 4,
 "nbformat_minor": 5
}
