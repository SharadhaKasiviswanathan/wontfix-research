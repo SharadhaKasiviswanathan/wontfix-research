{
 "cells": [
  {
   "cell_type": "markdown",
   "source": [
    "# Scan Repositories\n",
    "\n",
    "This notebook will scan repositories in order to collect details about `wontfix` label usage"
   ],
   "metadata": {
    "collapsed": false
   },
   "id": "63e25d761875f95d"
  },
  {
   "cell_type": "code",
   "outputs": [
    {
     "name": "stdout",
     "output_type": "stream",
     "text": [
      "Requirement already satisfied: numpy in /Users/jacurtis/Developer/wontfix/.venv/lib/python3.10/site-packages (1.26.4)\r\n",
      "Requirement already satisfied: pandas in /Users/jacurtis/Developer/wontfix/.venv/lib/python3.10/site-packages (2.2.1)\r\n",
      "Requirement already satisfied: PyGithub in /Users/jacurtis/Developer/wontfix/.venv/lib/python3.10/site-packages (2.2.0)\r\n",
      "Requirement already satisfied: requests in /Users/jacurtis/Developer/wontfix/.venv/lib/python3.10/site-packages (2.31.0)\r\n",
      "Requirement already satisfied: python-dateutil>=2.8.2 in /Users/jacurtis/Developer/wontfix/.venv/lib/python3.10/site-packages (from pandas) (2.9.0.post0)\r\n",
      "Requirement already satisfied: pytz>=2020.1 in /Users/jacurtis/Developer/wontfix/.venv/lib/python3.10/site-packages (from pandas) (2024.1)\r\n",
      "Requirement already satisfied: tzdata>=2022.7 in /Users/jacurtis/Developer/wontfix/.venv/lib/python3.10/site-packages (from pandas) (2024.1)\r\n",
      "Requirement already satisfied: pynacl>=1.4.0 in /Users/jacurtis/Developer/wontfix/.venv/lib/python3.10/site-packages (from PyGithub) (1.5.0)\r\n",
      "Requirement already satisfied: pyjwt[crypto]>=2.4.0 in /Users/jacurtis/Developer/wontfix/.venv/lib/python3.10/site-packages (from PyGithub) (2.8.0)\r\n",
      "Requirement already satisfied: typing-extensions>=4.0.0 in /Users/jacurtis/Developer/wontfix/.venv/lib/python3.10/site-packages (from PyGithub) (4.10.0)\r\n",
      "Requirement already satisfied: urllib3>=1.26.0 in /Users/jacurtis/Developer/wontfix/.venv/lib/python3.10/site-packages (from PyGithub) (2.2.1)\r\n",
      "Requirement already satisfied: Deprecated in /Users/jacurtis/Developer/wontfix/.venv/lib/python3.10/site-packages (from PyGithub) (1.2.14)\r\n",
      "Requirement already satisfied: charset-normalizer<4,>=2 in /Users/jacurtis/Developer/wontfix/.venv/lib/python3.10/site-packages (from requests) (3.3.2)\r\n",
      "Requirement already satisfied: idna<4,>=2.5 in /Users/jacurtis/Developer/wontfix/.venv/lib/python3.10/site-packages (from requests) (3.6)\r\n",
      "Requirement already satisfied: certifi>=2017.4.17 in /Users/jacurtis/Developer/wontfix/.venv/lib/python3.10/site-packages (from requests) (2024.2.2)\r\n",
      "Requirement already satisfied: cryptography>=3.4.0 in /Users/jacurtis/Developer/wontfix/.venv/lib/python3.10/site-packages (from pyjwt[crypto]>=2.4.0->PyGithub) (42.0.5)\r\n",
      "Requirement already satisfied: cffi>=1.4.1 in /Users/jacurtis/Developer/wontfix/.venv/lib/python3.10/site-packages (from pynacl>=1.4.0->PyGithub) (1.16.0)\r\n",
      "Requirement already satisfied: six>=1.5 in /Users/jacurtis/Developer/wontfix/.venv/lib/python3.10/site-packages (from python-dateutil>=2.8.2->pandas) (1.16.0)\r\n",
      "Requirement already satisfied: wrapt<2,>=1.10 in /Users/jacurtis/Developer/wontfix/.venv/lib/python3.10/site-packages (from Deprecated->PyGithub) (1.16.0)\r\n",
      "Requirement already satisfied: pycparser in /Users/jacurtis/Developer/wontfix/.venv/lib/python3.10/site-packages (from cffi>=1.4.1->pynacl>=1.4.0->PyGithub) (2.21)\r\n",
      "\r\n",
      "\u001B[1m[\u001B[0m\u001B[34;49mnotice\u001B[0m\u001B[1;39;49m]\u001B[0m\u001B[39;49m A new release of pip is available: \u001B[0m\u001B[31;49m23.1.2\u001B[0m\u001B[39;49m -> \u001B[0m\u001B[32;49m24.0\u001B[0m\r\n",
      "\u001B[1m[\u001B[0m\u001B[34;49mnotice\u001B[0m\u001B[1;39;49m]\u001B[0m\u001B[39;49m To update, run: \u001B[0m\u001B[32;49mpip install --upgrade pip\u001B[0m\r\n"
     ]
    }
   ],
   "source": [
    "# Use only to install required dependencies into your Juputer kernal (if you don't already have them)\n",
    "import sys\n",
    "!{sys.executable} -m pip install numpy pandas requests"
   ],
   "metadata": {
    "collapsed": false,
    "ExecuteTime": {
     "end_time": "2024-03-23T21:13:18.103804Z",
     "start_time": "2024-03-23T21:13:17.041568Z"
    }
   },
   "id": "b91dafaefd3a77bd",
   "execution_count": 7
  },
  {
   "cell_type": "code",
   "outputs": [
    {
     "data": {
      "text/plain": "                                         name  isFork  commits  branches  \\\nid                                                                         \n2049                      rzwitserloot/lombok   False     3243         3   \n29945   android-async-http/android-async-http   False      899         4   \n49010                    eclipse-vertx/vert.x   False     6050        58   \n88718                signalapp/signal-android   False    14322         9   \n166617                      openzipkin/zipkin   False     2917        43   \n\n        releases  forks mainLanguage defaultBranch  \\\nid                                                   \n2049           3   1932         Java        master   \n29945          3   4194         Java        master   \n49010          0   2032         Java        master   \n88718          0   5977         Java          main   \n166617        86   3060         Java        master   \n\n                                       license  \\\nid                                               \n2049                                     Other   \n29945                       Apache License 2.0   \n49010                                    Other   \n88718   GNU Affero General Public License v3.0   \n166617                      Apache License 2.0   \n\n                                                 homepage  ...  \\\nid                                                         ...   \n2049                           https://projectlombok.org/  ...   \n29945   https://github.com/android-async-http/android-...  ...   \n49010                                     http://vertx.io  ...   \n88718                                  https://signal.org  ...   \n166617                                 https://zipkin.io/  ...   \n\n                                                  metrics  \\\nid                                                          \n2049    [{\"blankLines\":6,\"codeLines\":236,\"commentLines...   \n29945   [{\"blankLines\":65,\"codeLines\":331,\"commentLine...   \n49010   [{\"blankLines\":7,\"codeLines\":118,\"commentLines...   \n88718   [{\"blankLines\":0,\"codeLines\":714,\"commentLines...   \n166617  [{\"blankLines\":2,\"codeLines\":22,\"commentLines\"...   \n\n                 lastCommit                             lastCommitSHA  \\\nid                                                                      \n2049    2021-04-18T04:36:13  5120abe4741c78d19d7e65404f407cfe57074a47   \n29945   2021-01-18T09:40:25  018a0b8d96a0dd569de9f8128cfe5d030e0423ef   \n49010   2024-03-22T08:02:07  23da2658d33278ddcc3513a6aaab8b9e4b6e748a   \n88718   2024-03-19T06:36:32  85929809f067da6af0d60fa964df126babd12f46   \n166617  2024-03-12T04:23:58  e0f6803947f744a4af5e18f2c78c037ae950bbaf   \n\n        hasWiki isArchived isDisabled isLocked  \\\nid                                               \n2049       True      False      False    False   \n29945      True      False      False    False   \n49010      True      False      False    False   \n88718      True      False      False    False   \n166617     True      False      False    False   \n\n                                                languages  \\\nid                                                          \n2049    {\"Java\":4263238,\"HTML\":236155,\"JavaScript\":158...   \n29945                                     {\"Java\":311001}   \n49010                         {\"Java\":6129111,\"HTML\":203}   \n88718   {\"Java\":11176237,\"Kotlin\":8944419,\"Handlebars\"...   \n166617  {\"Java\":1906747,\"JavaScript\":226653,\"TypeScrip...   \n\n                                                   labels  \\\nid                                                          \n2049    [accepted, android, aop, awaiting-fix-confirma...   \n29945   [critical, documentation, duplicate, feature-r...   \n49010   [blocker, bug, clustering, critical, deferred,...   \n88718   [a11y, acknowledged, backup, calling, camera, ...   \n166617  [bug, cassandra, chore, collector, dependencie...   \n\n                                                   topics  \nid                                                         \n2049                                                   []  \n29945                                                  []  \n49010   [concurrency, event-loop, high-performance, ht...  \n88718                                                  []  \n166617  [distributed-tracing, observability, openzipki...  \n\n[5 rows x 34 columns]",
      "text/html": "<div>\n<style scoped>\n    .dataframe tbody tr th:only-of-type {\n        vertical-align: middle;\n    }\n\n    .dataframe tbody tr th {\n        vertical-align: top;\n    }\n\n    .dataframe thead th {\n        text-align: right;\n    }\n</style>\n<table border=\"1\" class=\"dataframe\">\n  <thead>\n    <tr style=\"text-align: right;\">\n      <th></th>\n      <th>name</th>\n      <th>isFork</th>\n      <th>commits</th>\n      <th>branches</th>\n      <th>releases</th>\n      <th>forks</th>\n      <th>mainLanguage</th>\n      <th>defaultBranch</th>\n      <th>license</th>\n      <th>homepage</th>\n      <th>...</th>\n      <th>metrics</th>\n      <th>lastCommit</th>\n      <th>lastCommitSHA</th>\n      <th>hasWiki</th>\n      <th>isArchived</th>\n      <th>isDisabled</th>\n      <th>isLocked</th>\n      <th>languages</th>\n      <th>labels</th>\n      <th>topics</th>\n    </tr>\n    <tr>\n      <th>id</th>\n      <th></th>\n      <th></th>\n      <th></th>\n      <th></th>\n      <th></th>\n      <th></th>\n      <th></th>\n      <th></th>\n      <th></th>\n      <th></th>\n      <th></th>\n      <th></th>\n      <th></th>\n      <th></th>\n      <th></th>\n      <th></th>\n      <th></th>\n      <th></th>\n      <th></th>\n      <th></th>\n      <th></th>\n    </tr>\n  </thead>\n  <tbody>\n    <tr>\n      <th>2049</th>\n      <td>rzwitserloot/lombok</td>\n      <td>False</td>\n      <td>3243</td>\n      <td>3</td>\n      <td>3</td>\n      <td>1932</td>\n      <td>Java</td>\n      <td>master</td>\n      <td>Other</td>\n      <td>https://projectlombok.org/</td>\n      <td>...</td>\n      <td>[{\"blankLines\":6,\"codeLines\":236,\"commentLines...</td>\n      <td>2021-04-18T04:36:13</td>\n      <td>5120abe4741c78d19d7e65404f407cfe57074a47</td>\n      <td>True</td>\n      <td>False</td>\n      <td>False</td>\n      <td>False</td>\n      <td>{\"Java\":4263238,\"HTML\":236155,\"JavaScript\":158...</td>\n      <td>[accepted, android, aop, awaiting-fix-confirma...</td>\n      <td>[]</td>\n    </tr>\n    <tr>\n      <th>29945</th>\n      <td>android-async-http/android-async-http</td>\n      <td>False</td>\n      <td>899</td>\n      <td>4</td>\n      <td>3</td>\n      <td>4194</td>\n      <td>Java</td>\n      <td>master</td>\n      <td>Apache License 2.0</td>\n      <td>https://github.com/android-async-http/android-...</td>\n      <td>...</td>\n      <td>[{\"blankLines\":65,\"codeLines\":331,\"commentLine...</td>\n      <td>2021-01-18T09:40:25</td>\n      <td>018a0b8d96a0dd569de9f8128cfe5d030e0423ef</td>\n      <td>True</td>\n      <td>False</td>\n      <td>False</td>\n      <td>False</td>\n      <td>{\"Java\":311001}</td>\n      <td>[critical, documentation, duplicate, feature-r...</td>\n      <td>[]</td>\n    </tr>\n    <tr>\n      <th>49010</th>\n      <td>eclipse-vertx/vert.x</td>\n      <td>False</td>\n      <td>6050</td>\n      <td>58</td>\n      <td>0</td>\n      <td>2032</td>\n      <td>Java</td>\n      <td>master</td>\n      <td>Other</td>\n      <td>http://vertx.io</td>\n      <td>...</td>\n      <td>[{\"blankLines\":7,\"codeLines\":118,\"commentLines...</td>\n      <td>2024-03-22T08:02:07</td>\n      <td>23da2658d33278ddcc3513a6aaab8b9e4b6e748a</td>\n      <td>True</td>\n      <td>False</td>\n      <td>False</td>\n      <td>False</td>\n      <td>{\"Java\":6129111,\"HTML\":203}</td>\n      <td>[blocker, bug, clustering, critical, deferred,...</td>\n      <td>[concurrency, event-loop, high-performance, ht...</td>\n    </tr>\n    <tr>\n      <th>88718</th>\n      <td>signalapp/signal-android</td>\n      <td>False</td>\n      <td>14322</td>\n      <td>9</td>\n      <td>0</td>\n      <td>5977</td>\n      <td>Java</td>\n      <td>main</td>\n      <td>GNU Affero General Public License v3.0</td>\n      <td>https://signal.org</td>\n      <td>...</td>\n      <td>[{\"blankLines\":0,\"codeLines\":714,\"commentLines...</td>\n      <td>2024-03-19T06:36:32</td>\n      <td>85929809f067da6af0d60fa964df126babd12f46</td>\n      <td>True</td>\n      <td>False</td>\n      <td>False</td>\n      <td>False</td>\n      <td>{\"Java\":11176237,\"Kotlin\":8944419,\"Handlebars\"...</td>\n      <td>[a11y, acknowledged, backup, calling, camera, ...</td>\n      <td>[]</td>\n    </tr>\n    <tr>\n      <th>166617</th>\n      <td>openzipkin/zipkin</td>\n      <td>False</td>\n      <td>2917</td>\n      <td>43</td>\n      <td>86</td>\n      <td>3060</td>\n      <td>Java</td>\n      <td>master</td>\n      <td>Apache License 2.0</td>\n      <td>https://zipkin.io/</td>\n      <td>...</td>\n      <td>[{\"blankLines\":2,\"codeLines\":22,\"commentLines\"...</td>\n      <td>2024-03-12T04:23:58</td>\n      <td>e0f6803947f744a4af5e18f2c78c037ae950bbaf</td>\n      <td>True</td>\n      <td>False</td>\n      <td>False</td>\n      <td>False</td>\n      <td>{\"Java\":1906747,\"JavaScript\":226653,\"TypeScrip...</td>\n      <td>[bug, cassandra, chore, collector, dependencie...</td>\n      <td>[distributed-tracing, observability, openzipki...</td>\n    </tr>\n  </tbody>\n</table>\n<p>5 rows × 34 columns</p>\n</div>"
     },
     "execution_count": 10,
     "metadata": {},
     "output_type": "execute_result"
    }
   ],
   "source": [
    "import pandas as pd\n",
    "df = pd.read_csv('../data/repos.csv', index_col='id')\n",
    "\n",
    "# Convert these strings of semicolon-seperated values into a proper array\n",
    "df['labels'] = df['labels'].str.split(';')\n",
    "df['topics'] = df['topics'].apply(lambda x: [] if pd.isna(x) else x.split(';'))\n",
    "\n",
    "df.head()"
   ],
   "metadata": {
    "collapsed": false,
    "ExecuteTime": {
     "end_time": "2024-03-23T20:27:44.055215Z",
     "start_time": "2024-03-23T20:27:44.003089Z"
    }
   },
   "id": "2bd707bd8392ee45",
   "execution_count": 10
  },
  {
   "cell_type": "markdown",
   "source": [
    "## Fetch from GitHub\n",
    "\n",
    "Now we can go through each repo and fetch `wontfix` issues from GitHub"
   ],
   "metadata": {
    "collapsed": false
   },
   "id": "76b4ddf9f55c7263"
  },
  {
   "cell_type": "code",
   "outputs": [],
   "source": [
    "import requests, os, pprint\n",
    "\n",
    "GITHUB_TOKEN = os.getenv('GITHUB_TOKEN')\n",
    "\n",
    "def fetch_issues_for_repo(repo_name: str, label: str = 'wontfix', per_page: int = 100, start_page: int = 1, issue_state: str = 'all') -> list:\n",
    "    \"\"\"\n",
    "    Fetches issues from Github API\n",
    "    :param repo_name: \n",
    "    :param label: \n",
    "    :param per_page: \n",
    "    :param start_page: \n",
    "    :param issue_state: \n",
    "    :return: list of all_issues\n",
    "    \"\"\"\n",
    "    headers = {\n",
    "        'Authorization': GITHUB_TOKEN,\n",
    "        'Accept': 'application/vnd.github.html+json'\n",
    "    }\n",
    "\n",
    "    current_page = start_page\n",
    "    repo_name = repo_name\n",
    "    label = label\n",
    "    all_issues = []\n",
    "\n",
    "    # GitHub API URL for fetching issues from the repository\n",
    "    issues_url = f'https://api.github.com/repos/{repo_name}/issues'\n",
    "\n",
    "    while True:\n",
    "        params = {\n",
    "            'labels': label,\n",
    "            'state': issue_state,  # Change to 'open' if you only want open issues\n",
    "            'per_page': per_page,  # Adjust per_page to your needs, maximum is 100\n",
    "            'page': current_page\n",
    "        }\n",
    "        \n",
    "        # Send API Request\n",
    "        response = requests.get(issues_url, headers=headers, params=params)\n",
    "\n",
    "        # Check for successful response\n",
    "        if not response.ok:\n",
    "            print('Failed to fetch issues:', response.content)\n",
    "            break\n",
    "        \n",
    "        issues = response.json()\n",
    "        all_issues += issues\n",
    "        \n",
    "        link_header = response.headers['Link'] if 'Link' in response.headers else \"\"\n",
    "        current_page += 1\n",
    "        if 'rel=\"next\"' not in link_header:\n",
    "            break # End of pages\n",
    "            \n",
    "    return all_issues"
   ],
   "metadata": {
    "collapsed": false,
    "ExecuteTime": {
     "end_time": "2024-03-24T00:54:57.404990Z",
     "start_time": "2024-03-24T00:54:57.400829Z"
    }
   },
   "id": "6251e5122345b6d2",
   "execution_count": 61
  },
  {
   "cell_type": "code",
   "outputs": [],
   "source": [
    "from typing import Tuple, List\n",
    "\n",
    "def separate_issues_from_prs(items: list) -> Tuple[List[dict], List[dict]]:\n",
    "    \"\"\"\n",
    "    Separate a returned list of issues into a list of Pull Requests (PRs) and Issues that are not PRs\n",
    "    Technically all PRs are issues, so the Github API returns PRs as an issue, and that is what necessitates this step.\n",
    "    :param items: \n",
    "    :return: (PRs, Issues)\n",
    "    \"\"\"\n",
    "    prs = []\n",
    "    issues = []\n",
    "    for item in items:\n",
    "        if 'pull_request' in item:\n",
    "            prs.append(item)\n",
    "        else:\n",
    "            issues.append(item)\n",
    "    return issues, prs\n"
   ],
   "metadata": {
    "collapsed": false,
    "ExecuteTime": {
     "end_time": "2024-03-24T01:38:55.900502Z",
     "start_time": "2024-03-24T01:38:55.892661Z"
    }
   },
   "id": "20dfd3c8859a1516",
   "execution_count": 71
  },
  {
   "cell_type": "code",
   "outputs": [
    {
     "name": "stdout",
     "output_type": "stream",
     "text": [
      "Issues: 15\n",
      "PRs: 4\n"
     ]
    }
   ],
   "source": [
    "results = fetch_issues_for_repo('openzipkin/zipkin', per_page=100)\n",
    "issues, prs = separate_issues_from_prs(results)\n",
    "        \n",
    "print(f\"Issues: {len(issues)}\")\n",
    "print(f\"PRs: {len(prs)}\")"
   ],
   "metadata": {
    "collapsed": false,
    "ExecuteTime": {
     "end_time": "2024-03-24T01:38:58.434675Z",
     "start_time": "2024-03-24T01:38:57.767563Z"
    }
   },
   "id": "c2a415f40f8a8e29",
   "execution_count": 72
  },
  {
   "cell_type": "code",
   "outputs": [],
   "source": [],
   "metadata": {
    "collapsed": false
   },
   "id": "1102d9bda54b89fe"
  }
 ],
 "metadata": {
  "kernelspec": {
   "name": "wontfix",
   "language": "python",
   "display_name": "WONTFIX Research"
  },
  "language_info": {
   "codemirror_mode": {
    "name": "ipython",
    "version": 2
   },
   "file_extension": ".py",
   "mimetype": "text/x-python",
   "name": "python",
   "nbconvert_exporter": "python",
   "pygments_lexer": "ipython2",
   "version": "2.7.6"
  }
 },
 "nbformat": 4,
 "nbformat_minor": 5
}
