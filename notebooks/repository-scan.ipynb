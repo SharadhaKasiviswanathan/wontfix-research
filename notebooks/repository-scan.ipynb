{
 "cells": [
  {
   "cell_type": "markdown",
   "source": [
    "# Scan Repositories\n",
    "\n",
    "This notebook will scan repositories in order to collect details about `wontfix` label usage"
   ],
   "metadata": {
    "collapsed": false
   },
   "id": "63e25d761875f95d"
  },
  {
   "cell_type": "code",
   "outputs": [],
   "source": [
    "import csv\n",
    "\n",
    "import pandas as pd\n"
   ],
   "metadata": {
    "collapsed": false,
    "ExecuteTime": {
     "end_time": "2024-03-24T21:12:45.746573Z",
     "start_time": "2024-03-24T21:12:45.730669Z"
    }
   },
   "id": "2bd707bd8392ee45",
   "execution_count": 35
  },
  {
   "cell_type": "code",
   "outputs": [
    {
     "data": {
      "text/plain": "                                        name  isFork  commits  branches  \\\nid                                                                        \n2049                     rzwitserloot/lombok   False     3243         3   \n29945  android-async-http/android-async-http   False      899         4   \n49010                   eclipse-vertx/vert.x   False     6050        58   \n\n       releases  forks mainLanguage defaultBranch             license  \\\nid                                                                      \n2049          3   1932         Java        master               Other   \n29945         3   4194         Java        master  Apache License 2.0   \n49010         0   2032         Java        master               Other   \n\n                                                homepage  ...  isDisabled  \\\nid                                                        ...               \n2049                          https://projectlombok.org/  ...       False   \n29945  https://github.com/android-async-http/android-...  ...       False   \n49010                                    http://vertx.io  ...       False   \n\n       isLocked                                          languages  \\\nid                                                                   \n2049      False  {\"Java\":4263238,\"HTML\":236155,\"JavaScript\":158...   \n29945     False                                    {\"Java\":311001}   \n49010     False                        {\"Java\":6129111,\"HTML\":203}   \n\n                                                  labels  \\\nid                                                         \n2049   [accepted, android, aop, awaiting-fix-confirma...   \n29945  [critical, documentation, duplicate, feature-r...   \n49010  [blocker, bug, clustering, critical, deferred,...   \n\n                                                  topics wontfixType  \\\nid                                                                     \n2049                                                  []     wontfix   \n29945                                                 []     wontfix   \n49010  [concurrency, event-loop, high-performance, ht...     wontfix   \n\n      updatedIssuesTotal  updatedPullsTotal  wontfixIssues  wontfixPulls  \nid                                                                        \n2049                3112                518            146             0  \n29945               1091                287             90             5  \n49010               2683               2471             61            16  \n\n[3 rows x 39 columns]",
      "text/html": "<div>\n<style scoped>\n    .dataframe tbody tr th:only-of-type {\n        vertical-align: middle;\n    }\n\n    .dataframe tbody tr th {\n        vertical-align: top;\n    }\n\n    .dataframe thead th {\n        text-align: right;\n    }\n</style>\n<table border=\"1\" class=\"dataframe\">\n  <thead>\n    <tr style=\"text-align: right;\">\n      <th></th>\n      <th>name</th>\n      <th>isFork</th>\n      <th>commits</th>\n      <th>branches</th>\n      <th>releases</th>\n      <th>forks</th>\n      <th>mainLanguage</th>\n      <th>defaultBranch</th>\n      <th>license</th>\n      <th>homepage</th>\n      <th>...</th>\n      <th>isDisabled</th>\n      <th>isLocked</th>\n      <th>languages</th>\n      <th>labels</th>\n      <th>topics</th>\n      <th>wontfixType</th>\n      <th>updatedIssuesTotal</th>\n      <th>updatedPullsTotal</th>\n      <th>wontfixIssues</th>\n      <th>wontfixPulls</th>\n    </tr>\n    <tr>\n      <th>id</th>\n      <th></th>\n      <th></th>\n      <th></th>\n      <th></th>\n      <th></th>\n      <th></th>\n      <th></th>\n      <th></th>\n      <th></th>\n      <th></th>\n      <th></th>\n      <th></th>\n      <th></th>\n      <th></th>\n      <th></th>\n      <th></th>\n      <th></th>\n      <th></th>\n      <th></th>\n      <th></th>\n      <th></th>\n    </tr>\n  </thead>\n  <tbody>\n    <tr>\n      <th>2049</th>\n      <td>rzwitserloot/lombok</td>\n      <td>False</td>\n      <td>3243</td>\n      <td>3</td>\n      <td>3</td>\n      <td>1932</td>\n      <td>Java</td>\n      <td>master</td>\n      <td>Other</td>\n      <td>https://projectlombok.org/</td>\n      <td>...</td>\n      <td>False</td>\n      <td>False</td>\n      <td>{\"Java\":4263238,\"HTML\":236155,\"JavaScript\":158...</td>\n      <td>[accepted, android, aop, awaiting-fix-confirma...</td>\n      <td>[]</td>\n      <td>wontfix</td>\n      <td>3112</td>\n      <td>518</td>\n      <td>146</td>\n      <td>0</td>\n    </tr>\n    <tr>\n      <th>29945</th>\n      <td>android-async-http/android-async-http</td>\n      <td>False</td>\n      <td>899</td>\n      <td>4</td>\n      <td>3</td>\n      <td>4194</td>\n      <td>Java</td>\n      <td>master</td>\n      <td>Apache License 2.0</td>\n      <td>https://github.com/android-async-http/android-...</td>\n      <td>...</td>\n      <td>False</td>\n      <td>False</td>\n      <td>{\"Java\":311001}</td>\n      <td>[critical, documentation, duplicate, feature-r...</td>\n      <td>[]</td>\n      <td>wontfix</td>\n      <td>1091</td>\n      <td>287</td>\n      <td>90</td>\n      <td>5</td>\n    </tr>\n    <tr>\n      <th>49010</th>\n      <td>eclipse-vertx/vert.x</td>\n      <td>False</td>\n      <td>6050</td>\n      <td>58</td>\n      <td>0</td>\n      <td>2032</td>\n      <td>Java</td>\n      <td>master</td>\n      <td>Other</td>\n      <td>http://vertx.io</td>\n      <td>...</td>\n      <td>False</td>\n      <td>False</td>\n      <td>{\"Java\":6129111,\"HTML\":203}</td>\n      <td>[blocker, bug, clustering, critical, deferred,...</td>\n      <td>[concurrency, event-loop, high-performance, ht...</td>\n      <td>wontfix</td>\n      <td>2683</td>\n      <td>2471</td>\n      <td>61</td>\n      <td>16</td>\n    </tr>\n  </tbody>\n</table>\n<p>3 rows × 39 columns</p>\n</div>"
     },
     "execution_count": 36,
     "metadata": {},
     "output_type": "execute_result"
    }
   ],
   "source": [
    "df = pd.read_csv('../data/repos.csv', index_col='id')\n",
    "\n",
    "# Convert these strings of semicolon-seperated values into a proper array\n",
    "df['labels'] = df['labels'].str.split(';')\n",
    "df['topics'] = df['topics'].apply(lambda x: [] if pd.isna(x) else x.split(';'))\n",
    "\n",
    "df.head()"
   ],
   "metadata": {
    "collapsed": false,
    "ExecuteTime": {
     "end_time": "2024-03-24T21:12:45.768308Z",
     "start_time": "2024-03-24T21:12:45.751242Z"
    }
   },
   "id": "efe92eab5eb05f76",
   "execution_count": 36
  },
  {
   "cell_type": "markdown",
   "source": [
    "## Fetch from GitHub\n",
    "\n",
    "Now we can go through each repo and fetch `wontfix` issues from GitHub"
   ],
   "metadata": {
    "collapsed": false
   },
   "id": "76b4ddf9f55c7263"
  },
  {
   "cell_type": "code",
   "outputs": [],
   "source": [
    "import requests, os\n",
    "\n",
    "GITHUB_TOKEN = os.getenv('GITHUB_TOKEN')\n",
    "\n",
    "def fetch_issues_for_repo(repo_name: str, label: str = 'wontfix', per_page: int = 100, start_page: int = 1, issue_state: str = 'all') -> list:\n",
    "    \"\"\"\n",
    "    Fetches issues from GitHub API for a specific repo with a given label. Paginates through requests until all issues have been collected. Returns a list of\n",
    "    all matched issues. \n",
    "    :param repo_name: \n",
    "    :param label: \n",
    "    :param per_page: \n",
    "    :param start_page: \n",
    "    :param issue_state: \n",
    "    :return: list of all_issues\n",
    "    \"\"\"\n",
    "    headers = {\n",
    "        'Authorization': GITHUB_TOKEN,\n",
    "        'Accept': 'application/vnd.github.html+json'\n",
    "    }\n",
    "\n",
    "    current_page = start_page\n",
    "    repo_name = repo_name\n",
    "    label = label\n",
    "    all_issues = []\n",
    "\n",
    "    # GitHub API URL for fetching issues from the repository\n",
    "    issues_url = f'https://api.github.com/repos/{repo_name}/issues'\n",
    "\n",
    "    while True:\n",
    "        params = {\n",
    "            'labels': label,\n",
    "            'state': issue_state,  # Change to 'open' if you only want open issues\n",
    "            'per_page': per_page,  # Adjust per_page to your needs, maximum is 100\n",
    "            'page': current_page\n",
    "        }\n",
    "        \n",
    "        # Send API Request\n",
    "        response = requests.get(issues_url, headers=headers, params=params)\n",
    "\n",
    "        # Check for successful response\n",
    "        if not response.ok:\n",
    "            print('Failed to fetch issues:', response.content)\n",
    "            break\n",
    "        \n",
    "        issues = response.json()\n",
    "        all_issues += issues\n",
    "        \n",
    "        link_header = response.headers['Link'] if 'Link' in response.headers else \"\"\n",
    "        current_page += 1\n",
    "        if 'rel=\"next\"' not in link_header:\n",
    "            break # End of pages\n",
    "            \n",
    "    return all_issues"
   ],
   "metadata": {
    "collapsed": false,
    "ExecuteTime": {
     "end_time": "2024-03-24T21:12:45.784481Z",
     "start_time": "2024-03-24T21:12:45.771717Z"
    }
   },
   "id": "6251e5122345b6d2",
   "execution_count": 37
  },
  {
   "cell_type": "code",
   "outputs": [],
   "source": [
    "from typing import Tuple, List\n",
    "\n",
    "def separate_issues_from_prs(items: list) -> Tuple[List[dict], List[dict]]:\n",
    "    \"\"\"\n",
    "    Separate a returned list of issues into a list of Pull Requests (PRs) and \"proper\" Issues (which are not PRs)\n",
    "    Technically all PRs are issues, so the GitHub API returns PRs as an issue, and that is what necessitates this step.\n",
    "    :param items: \n",
    "    :return: (PRs, Issues)\n",
    "    \"\"\"\n",
    "    prs = []\n",
    "    issues = []\n",
    "    for item in items:\n",
    "        if 'pull_request' in item:\n",
    "            prs.append(item)\n",
    "        else:\n",
    "            issues.append(item)\n",
    "    return issues, prs\n"
   ],
   "metadata": {
    "collapsed": false,
    "ExecuteTime": {
     "end_time": "2024-03-24T21:12:45.801335Z",
     "start_time": "2024-03-24T21:12:45.777759Z"
    }
   },
   "id": "20dfd3c8859a1516",
   "execution_count": 38
  },
  {
   "cell_type": "code",
   "outputs": [
    {
     "name": "stdout",
     "output_type": "stream",
     "text": [
      "Issues: 0\n",
      "PRs: 0\n"
     ]
    }
   ],
   "source": [
    "results = fetch_issues_for_repo('jacurtis/wontfix-research', per_page=100)\n",
    "res_issues, res_prs = separate_issues_from_prs(results)\n",
    "        \n",
    "print(f\"Issues: {len(res_issues)}\")\n",
    "print(f\"PRs: {len(res_prs)}\")"
   ],
   "metadata": {
    "collapsed": false,
    "ExecuteTime": {
     "end_time": "2024-03-24T21:12:46.091128Z",
     "start_time": "2024-03-24T21:12:45.782144Z"
    }
   },
   "id": "c2a415f40f8a8e29",
   "execution_count": 39
  },
  {
   "cell_type": "markdown",
   "source": [
    "### Steps\n",
    "\n",
    "1. Loop through each repo in master list (repos.csv)\n",
    "2. Get issues for each repo \n",
    "    - Use: `fetch_issues_for_repo()`\n",
    "3. Separate issues from PRs\n",
    "    - Use: `separate_issues_from_prs()`\n",
    "4. Record the total issues and wontfix issues on repos.csv\n",
    "    - Use: `len(issues)` to get wontfix issues\n",
    "    - Use: `fetch_total_issues_and_prs_for_repo()`\n",
    "5. Record the total PRs and wontfix PRs on the repos.csv\n",
    "    - Use: `len(pulls)` to get wonfix pull request total\n",
    "    - Use results from 4b above\n",
    "6. Record each issue onto the issues.csv\n",
    "7. Record each PR onto the pull-requests.csv\n",
    "8. Check if loop should continue, repeating as necessary"
   ],
   "metadata": {
    "collapsed": false
   },
   "id": "2f0ada7db4191336"
  },
  {
   "cell_type": "code",
   "outputs": [],
   "source": [
    "def extract_total_count(link_header: str) -> int:\n",
    "    \"\"\"\n",
    "    Extracts the total number of pages from a link header on a GitHub API response.\n",
    "    If you only use per_page=1, then this can easily map to the total number of issues/prs with a single request\n",
    "    :param link_header: \n",
    "    :return total_count: \n",
    "    \"\"\"\n",
    "    if link_header:\n",
    "        parts = link_header.split(',')\n",
    "        for part in parts:\n",
    "            if 'rel=\"last\"' in part:\n",
    "                return int(part.split(\"&page=\")[1].split(\">\")[0])\n",
    "    return 0\n",
    "\n",
    "def fetch_total_issues_and_prs_for_repo(repo_name: str) -> (int, int):\n",
    "    \"\"\"\n",
    "    Fetches the total number of issues and pull requests for a given repository\n",
    "    :param repo_name: \n",
    "    :return total_issues, total_pulls:\n",
    "    \"\"\"\n",
    "    issues_url = f'https://api.github.com/repos/{repo_name}/issues'\n",
    "    pulls_url = f'https://api.github.com/repos/{repo_name}/pulls'\n",
    "    \n",
    "    headers = {\n",
    "        'Authorization': GITHUB_TOKEN,\n",
    "        'Accept': 'application/vnd.github+json'\n",
    "    }\n",
    "    \n",
    "    params = {\n",
    "        'state': 'all',\n",
    "        'per_page': 1\n",
    "    }\n",
    "    \n",
    "    response_pulls = requests.get(pulls_url, headers=headers, params=params)\n",
    "    response_issues = requests.get(issues_url, headers=headers, params=params)\n",
    "    \n",
    "    header_pulls_link = response_pulls.headers.get('Link', None)\n",
    "    header_issues_link = response_issues.headers.get('Link', None)\n",
    "    \n",
    "    total_pulls = extract_total_count(header_pulls_link)\n",
    "    total_issues = extract_total_count(header_issues_link) - total_pulls\n",
    "    \n",
    "    return total_issues, total_pulls"
   ],
   "metadata": {
    "collapsed": false,
    "ExecuteTime": {
     "end_time": "2024-03-24T21:12:46.091673Z",
     "start_time": "2024-03-24T21:12:46.088517Z"
    }
   },
   "id": "703f3c5a4b8cb778",
   "execution_count": 40
  },
  {
   "cell_type": "code",
   "outputs": [
    {
     "data": {
      "text/plain": "(3112, 518)"
     },
     "execution_count": 41,
     "metadata": {},
     "output_type": "execute_result"
    }
   ],
   "source": [
    "fetch_total_issues_and_prs_for_repo('rzwitserloot/lombok')"
   ],
   "metadata": {
    "collapsed": false,
    "ExecuteTime": {
     "end_time": "2024-03-24T21:12:46.974371Z",
     "start_time": "2024-03-24T21:12:46.091446Z"
    }
   },
   "id": "23b4492faaae5a90",
   "execution_count": 41
  },
  {
   "cell_type": "code",
   "outputs": [],
   "source": [
    "def update_repos(start_line: int, end_line: int, source_filename: str = '../data/raw/wontfix.csv', dest_filename: str = '../data/repos.csv', wontfix_type: str = 'wontfix') -> None:\n",
    "    \"\"\"\n",
    "    Given a start line and an end line, go down the repos.csv file taking the repo from each line and\n",
    "    updating the pull/issue totals and extracting all the issues for that repository.\n",
    "    Note: Line numbers are zero-indexed, so line 1 is the 2nd line in the file. This works because the first line is the header.\n",
    "    :param start_line: \n",
    "    :param end_line: \n",
    "    :param source_filename: \n",
    "    :param dest_filename: \n",
    "    :param wontfix_type: \n",
    "    :return None: \n",
    "    \"\"\"\n",
    "    with open(source_filename, 'r') as source_file:\n",
    "        source_reader = csv.reader(source_file)\n",
    "        with open(dest_filename, 'a') as dest_file:\n",
    "            dest_writer = csv.writer(dest_file)\n",
    "            for i, row in enumerate(source_reader):\n",
    "                if start_line <= i <= end_line:\n",
    "                    repo_name = row[1] # Repo name is in the second column\n",
    "                    row.append(wontfix_type) # static value to indicate the text used for the wontfix label in this repo\n",
    "                    \n",
    "                    # Get the total issues and PRs for the repo\n",
    "                    total_issues, total_pulls = fetch_total_issues_and_prs_for_repo(repo_name)\n",
    "                    row.append(total_issues)\n",
    "                    row.append(total_pulls)\n",
    "                    \n",
    "                    # Get the issues for the repo\n",
    "                    results = fetch_issues_for_repo(repo_name, label=wontfix_type, per_page=100)\n",
    "                    res_issues, res_prs = separate_issues_from_prs(results)\n",
    "                    row.append(len(res_issues))\n",
    "                    row.append(len(res_prs))\n",
    "                    \n",
    "                    # Write the new row to the file\n",
    "                    dest_writer.writerow(row)\n",
    "\n",
    "                    # Write the issues and PRs to separate files\n",
    "                    # TODO: Write the issues to a file\n",
    "                    # TODO: Write the PRs to a file\n",
    "                \n",
    "# update_repos(1,3)"
   ],
   "metadata": {
    "collapsed": false,
    "ExecuteTime": {
     "end_time": "2024-03-24T21:12:46.974980Z",
     "start_time": "2024-03-24T21:12:46.970378Z"
    }
   },
   "id": "2c7c981fa423e0ae",
   "execution_count": 42
  },
  {
   "cell_type": "code",
   "outputs": [],
   "source": [],
   "metadata": {
    "collapsed": false,
    "ExecuteTime": {
     "end_time": "2024-03-24T21:12:46.975587Z",
     "start_time": "2024-03-24T21:12:46.972658Z"
    }
   },
   "id": "ae22aef2c69c8684",
   "execution_count": 42
  }
 ],
 "metadata": {
  "kernelspec": {
   "name": "wontfix",
   "language": "python",
   "display_name": "WONTFIX Research"
  },
  "language_info": {
   "codemirror_mode": {
    "name": "ipython",
    "version": 2
   },
   "file_extension": ".py",
   "mimetype": "text/x-python",
   "name": "python",
   "nbconvert_exporter": "python",
   "pygments_lexer": "ipython2",
   "version": "2.7.6"
  }
 },
 "nbformat": 4,
 "nbformat_minor": 5
}
